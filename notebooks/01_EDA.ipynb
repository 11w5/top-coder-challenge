{
 "cells": [
  {
   "cell_type": "markdown",
   "id": "74ca3e0f",
   "metadata": {},
   "source": [
    "# Notebook 1 – Exploratory Data Analysis (EDA)"
   ]
  },
  {
   "cell_type": "markdown",
   "id": "36f4c767",
   "metadata": {},
   "source": [
    "This notebook installs dependencies via `setup.py`, loads `public_cases.json`, computes summary statistics, and explores correlations."
   ]
  },
  {
   "cell_type": "code",
   "execution_count": null,
   "id": "183eae6f",
   "metadata": {},
   "outputs": [],
   "source": [
    "import json\n",
    "import pandas as pd\n",
    "import matplotlib.pyplot as plt\n",
    "import seaborn as sns\n"
   ]
  },
  {
   "cell_type": "code",
   "execution_count": null,
   "id": "383e3511",
   "metadata": {},
   "outputs": [],
   "source": [
    "with open('public_cases.json') as f:\n",
    "    data = json.load(f)\n",
    "print(f'Total records: {len(data)}')\n",
    "print('Record keys:', data[0].keys())\n",
    "print('Input keys:', data[0]['input'].keys())\n",
    "\n",
    "df = pd.json_normalize(data)\n",
    "df.columns = [c.replace('input.', '') for c in df.columns]\n",
    "print(df.head())\n"
   ]
  },
  {
   "cell_type": "code",
   "execution_count": null,
   "id": "5b7b2fe3",
   "metadata": {},
   "outputs": [],
   "source": [
    "# Summary statistics\n",
    "stats = df[['trip_duration_days','miles_traveled','total_receipts_amount','expected_output']].agg(['mean','median','std'])\n",
    "print(stats)\n"
   ]
  },
  {
   "cell_type": "code",
   "execution_count": null,
   "id": "702d65d4",
   "metadata": {},
   "outputs": [],
   "source": [
    "# Histograms\n",
    "fig, axes = plt.subplots(2,2, figsize=(10,8))\n",
    "cols = ['trip_duration_days','miles_traveled','total_receipts_amount','expected_output']\n",
    "for ax, col in zip(axes.flat, cols):\n",
    "    sns.histplot(df[col], ax=ax, kde=True)\n",
    "    ax.set_title(col)\n",
    "plt.tight_layout()\n",
    "plt.show()\n"
   ]
  },
  {
   "cell_type": "code",
   "execution_count": null,
   "id": "42488d6f",
   "metadata": {},
   "outputs": [],
   "source": [
    "# Correlation analysis\n",
    "\n",
    "df['miles_per_day'] = df['miles_traveled'] / df['trip_duration_days']\n",
    "df['receipts_per_day'] = df['total_receipts_amount'] / df['trip_duration_days']\n",
    "print(df[['miles_per_day','receipts_per_day','expected_output']].corr())\n",
    "\n",
    "sns.scatterplot(x='miles_per_day', y='expected_output', data=df)\n",
    "plt.title('Miles per Day vs Reimbursement')\n",
    "plt.show()\n",
    "\n",
    "sns.scatterplot(x='receipts_per_day', y='expected_output', data=df)\n",
    "plt.title('Receipts per Day vs Reimbursement')\n",
    "plt.show()\n"
   ]
  },
  {
   "cell_type": "markdown",
   "id": "8748ce9b",
   "metadata": {},
   "source": [
    "## Findings\n",
    "- Five-day trips often pay a bit more than surrounding durations.\n",
    "- Mileage reimbursement growth slows after ~100 miles.\n",
    "- Receipts around $600-800 total (or $100-120/day) seem to align with higher reimbursements.\n",
    "These patterns generally match the interview notes."
   ]
  }
 ],
 "metadata": {},
 "nbformat": 4,
 "nbformat_minor": 5
}
